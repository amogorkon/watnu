{
 "cells": [
  {
   "cell_type": "code",
   "execution_count": 1,
   "metadata": {
    "execution": {
     "iopub.execute_input": "2021-03-27T07:57:57.233136Z",
     "iopub.status.busy": "2021-03-27T07:57:57.232584Z",
     "iopub.status.idle": "2021-03-27T07:57:59.913345Z",
     "shell.execute_reply": "2021-03-27T07:57:59.912432Z",
     "shell.execute_reply.started": "2021-03-27T07:57:57.233046Z"
    }
   },
   "outputs": [],
   "source": [
    "from PyQt5.QtSql import QSqlQuery, QSqlDatabase"
   ]
  },
  {
   "cell_type": "code",
   "execution_count": 24,
   "metadata": {
    "execution": {
     "iopub.execute_input": "2021-03-27T09:23:59.278334Z",
     "iopub.status.busy": "2021-03-27T09:23:59.277972Z",
     "iopub.status.idle": "2021-03-27T09:23:59.296635Z",
     "shell.execute_reply": "2021-03-27T09:23:59.289311Z",
     "shell.execute_reply.started": "2021-03-27T09:23:59.278294Z"
    }
   },
   "outputs": [
    {
     "name": "stdout",
     "output_type": "stream",
     "text": [
      "/media/sf_Dropbox/code/watnu/master/src/watnu\n"
     ]
    }
   ],
   "source": [
    "%cd /media/sf_Dropbox/code/watnu/master/src/watnu"
   ]
  },
  {
   "cell_type": "code",
   "execution_count": 1,
   "metadata": {
    "execution": {
     "iopub.execute_input": "2021-03-27T09:26:13.863929Z",
     "iopub.status.busy": "2021-03-27T09:26:13.862971Z",
     "iopub.status.idle": "2021-03-27T09:26:13.895000Z",
     "shell.execute_reply": "2021-03-27T09:26:13.893280Z",
     "shell.execute_reply.started": "2021-03-27T09:26:13.863785Z"
    }
   },
   "outputs": [
    {
     "data": {
      "text/plain": [
       "'3.8.5 (default, Sep  4 2020, 07:30:14) \\n[GCC 7.3.0]'"
      ]
     },
     "execution_count": 1,
     "metadata": {},
     "output_type": "execute_result"
    }
   ],
   "source": [
    "import sys\n",
    "sys.version"
   ]
  },
  {
   "cell_type": "code",
   "execution_count": 25,
   "metadata": {
    "execution": {
     "iopub.execute_input": "2021-03-27T09:24:03.210628Z",
     "iopub.status.busy": "2021-03-27T09:24:03.210078Z",
     "iopub.status.idle": "2021-03-27T09:24:03.238334Z",
     "shell.execute_reply": "2021-03-27T09:24:03.235985Z",
     "shell.execute_reply.started": "2021-03-27T09:24:03.210563Z"
    }
   },
   "outputs": [
    {
     "ename": "SyntaxError",
     "evalue": "invalid syntax (main.py, line 1400)",
     "output_type": "error",
     "traceback": [
      "Traceback \u001b[0;36m(most recent call last)\u001b[0m:\n",
      "  File \u001b[1;32m\"/home/thorsten/anaconda3/lib/python3.8/site-packages/IPython/core/interactiveshell.py\"\u001b[0m, line \u001b[1;32m3418\u001b[0m, in \u001b[1;35mrun_code\u001b[0m\n    exec(code_obj, self.user_global_ns, self.user_ns)\n",
      "\u001b[0;36m  File \u001b[0;32m\"<ipython-input-25-63b75181c34a>\"\u001b[0;36m, line \u001b[0;32m1\u001b[0;36m, in \u001b[0;35m<module>\u001b[0;36m\u001b[0m\n\u001b[0;31m    import main\u001b[0m\n",
      "\u001b[0;36m  File \u001b[0;32m\"/media/sf_Dropbox/code/watnu/master/src/watnu/main.py\"\u001b[0;36m, line \u001b[0;32m1400\u001b[0m\n\u001b[0;31m    @self.notes.document().contentsChanged.connect\u001b[0m\n\u001b[0m                          ^\u001b[0m\n\u001b[0;31mSyntaxError\u001b[0m\u001b[0;31m:\u001b[0m invalid syntax\n"
     ]
    }
   ],
   "source": [
    "import main"
   ]
  },
  {
   "cell_type": "code",
   "execution_count": 3,
   "metadata": {
    "execution": {
     "iopub.execute_input": "2021-03-27T07:58:46.970746Z",
     "iopub.status.busy": "2021-03-27T07:58:46.970434Z",
     "iopub.status.idle": "2021-03-27T07:58:46.978866Z",
     "shell.execute_reply": "2021-03-27T07:58:46.978082Z",
     "shell.execute_reply.started": "2021-03-27T07:58:46.970711Z"
    }
   },
   "outputs": [],
   "source": [
    "db = sqlite3.connect(\":memory:\")"
   ]
  },
  {
   "cell_type": "code",
   "execution_count": 4,
   "metadata": {
    "execution": {
     "iopub.execute_input": "2021-03-27T07:59:33.715600Z",
     "iopub.status.busy": "2021-03-27T07:59:33.715259Z",
     "iopub.status.idle": "2021-03-27T07:59:33.977076Z",
     "shell.execute_reply": "2021-03-27T07:59:33.976146Z",
     "shell.execute_reply.started": "2021-03-27T07:59:33.715564Z"
    }
   },
   "outputs": [
    {
     "data": {
      "text/plain": [
       "True"
      ]
     },
     "execution_count": 4,
     "metadata": {},
     "output_type": "execute_result"
    }
   ],
   "source": [
    "db = QSqlDatabase.addDatabase(\"QSQLITE\")\n",
    "db.setDatabaseName(\":memory:\")\n",
    "db.open()"
   ]
  },
  {
   "cell_type": "code",
   "execution_count": 5,
   "metadata": {
    "execution": {
     "iopub.execute_input": "2021-03-27T07:59:42.945335Z",
     "iopub.status.busy": "2021-03-27T07:59:42.944700Z",
     "iopub.status.idle": "2021-03-27T07:59:42.954074Z",
     "shell.execute_reply": "2021-03-27T07:59:42.953159Z",
     "shell.execute_reply.started": "2021-03-27T07:59:42.945289Z"
    }
   },
   "outputs": [],
   "source": [
    "query = QSqlQuery()"
   ]
  },
  {
   "cell_type": "code",
   "execution_count": 12,
   "metadata": {
    "execution": {
     "iopub.execute_input": "2021-03-27T08:21:12.975806Z",
     "iopub.status.busy": "2021-03-27T08:21:12.975484Z",
     "iopub.status.idle": "2021-03-27T08:21:12.992800Z",
     "shell.execute_reply": "2021-03-27T08:21:12.991124Z",
     "shell.execute_reply.started": "2021-03-27T08:21:12.975770Z"
    }
   },
   "outputs": [
    {
     "data": {
      "text/plain": [
       "['spaces', 'sqlite_sequence']"
      ]
     },
     "execution_count": 12,
     "metadata": {},
     "output_type": "execute_result"
    }
   ],
   "source": [
    "db.tables()"
   ]
  },
  {
   "cell_type": "code",
   "execution_count": 9,
   "metadata": {
    "execution": {
     "iopub.execute_input": "2021-03-27T08:20:59.392830Z",
     "iopub.status.busy": "2021-03-27T08:20:59.392447Z",
     "iopub.status.idle": "2021-03-27T08:20:59.403916Z",
     "shell.execute_reply": "2021-03-27T08:20:59.402880Z",
     "shell.execute_reply.started": "2021-03-27T08:20:59.392794Z"
    }
   },
   "outputs": [
    {
     "name": "stdout",
     "output_type": "stream",
     "text": [
      "\n",
      "CREATE TABLE IF NOT EXISTS spaces(\n",
      "space_id INTEGER PRIMARY KEY AUTOINCREMENT UNIQUE NOT NULL,\n",
      "name VARCHAR(255) NOT NULL UNIQUE\n",
      ")\n",
      "\n"
     ]
    }
   ],
   "source": [
    "    statement = f\"\"\"\n",
    "    CREATE TABLE IF NOT EXISTS spaces(\n",
    "    space_id INTEGER PRIMARY KEY AUTOINCREMENT UNIQUE NOT NULL,\n",
    "    name VARCHAR(255) NOT NULL UNIQUE\n",
    "    )\n",
    "    \"\"\"\n",
    "print(statement)"
   ]
  },
  {
   "cell_type": "code",
   "execution_count": 11,
   "metadata": {
    "execution": {
     "iopub.execute_input": "2021-03-27T08:21:11.094549Z",
     "iopub.status.busy": "2021-03-27T08:21:11.094213Z",
     "iopub.status.idle": "2021-03-27T08:21:11.108572Z",
     "shell.execute_reply": "2021-03-27T08:21:11.107087Z",
     "shell.execute_reply.started": "2021-03-27T08:21:11.094511Z"
    }
   },
   "outputs": [
    {
     "data": {
      "text/plain": [
       "True"
      ]
     },
     "execution_count": 11,
     "metadata": {},
     "output_type": "execute_result"
    }
   ],
   "source": [
    "query.exec(statement)"
   ]
  },
  {
   "cell_type": "code",
   "execution_count": 8,
   "metadata": {},
   "outputs": [],
   "source": [
    "d = {\"do\": \"do something!\",\n",
    "    \"space\": \"foobar\",\n",
    "    \"done\": False}"
   ]
  },
  {
   "cell_type": "code",
   "execution_count": 9,
   "metadata": {},
   "outputs": [
    {
     "name": "stdout",
     "output_type": "stream",
     "text": [
      "\n",
      "INSERT OR IGNORE INTO spaces (name)\n",
      "VALUES ('foobar')\n",
      "\n"
     ]
    }
   ],
   "source": [
    "statement = f\"\"\"\n",
    "INSERT OR IGNORE INTO spaces (name)\n",
    "VALUES ('{d[\"space\"]}')\n",
    "\"\"\"\n",
    "print(statement)"
   ]
  },
  {
   "cell_type": "code",
   "execution_count": 10,
   "metadata": {},
   "outputs": [
    {
     "data": {
      "text/plain": [
       "True"
      ]
     },
     "execution_count": 10,
     "metadata": {},
     "output_type": "execute_result"
    }
   ],
   "source": [
    "query.exec(statement)"
   ]
  },
  {
   "cell_type": "code",
   "execution_count": 11,
   "metadata": {},
   "outputs": [
    {
     "name": "stdout",
     "output_type": "stream",
     "text": [
      "\n",
      "CREATE TABLE IF NOT EXISTS activities(\n",
      "activity_id INTEGER PRIMARY KEY AUTOINCREMENT UNIQUE NOT NULL,\n",
      "name VARCHAR(255) NOT NULL UNIQUE\n",
      ")\n",
      "\n"
     ]
    }
   ],
   "source": [
    "    statement = f\"\"\"\n",
    "    CREATE TABLE IF NOT EXISTS activities(\n",
    "    activity_id INTEGER PRIMARY KEY AUTOINCREMENT UNIQUE NOT NULL,\n",
    "    name VARCHAR(255) NOT NULL UNIQUE\n",
    "    )\n",
    "    \"\"\"\n",
    "    print(statement)"
   ]
  },
  {
   "cell_type": "code",
   "execution_count": 12,
   "metadata": {},
   "outputs": [
    {
     "data": {
      "text/plain": [
       "True"
      ]
     },
     "execution_count": 12,
     "metadata": {},
     "output_type": "execute_result"
    }
   ],
   "source": [
    "query.exec(statement)"
   ]
  },
  {
   "cell_type": "code",
   "execution_count": 13,
   "metadata": {},
   "outputs": [
    {
     "name": "stdout",
     "output_type": "stream",
     "text": [
      "\n",
      "CREATE TABLE IF NOT EXISTS tasks (\n",
      "id INTEGER PRIMARY KEY AUTOINCREMENT UNIQUE NOT NULL,\n",
      "do VARCHAR(280) NOT NULL,\n",
      "\n",
      "notes TEXT,\n",
      "attachments BLOB,\n",
      "space_id INTEGER,\n",
      "\n",
      "done INTEGER NOT NULL DEFAULT 0,\n",
      "draft INTEGER NOT NULL DEFAULT 0,\n",
      "active INTEGER NOT NULL DEFAULT 1,\n",
      "deleted INTEGER NOT NULL DEFAULT 0,\n",
      "\n",
      "priority REAL NOT NULL DEFAULT 0,\n",
      "level_id INTEGER NOT NULL DEFAULT 0,\n",
      "\n",
      "deadline INTEGER,\n",
      "workload INTEGER,\n",
      "\n",
      "activity_id INTEGER,\n",
      "difficulty REAL DEFAULT 5,\n",
      "fear REAL DEFAULT 5,\n",
      "\n",
      "last_checked INTEGER,\n",
      "chain TEXT,\n",
      "FOREIGN KEY (space_id)\n",
      "REFERENCES spaces (space_id)\n",
      "    ON DELETE SET NULL,\n",
      "FOREIGN KEY (activity_id)\n",
      "REFERENCES activities (activity_id)\n",
      "    ON DELETE SET NULL\n",
      ")\n",
      "\n"
     ]
    }
   ],
   "source": [
    "    statement = f\"\"\"\n",
    "    CREATE TABLE IF NOT EXISTS tasks (\n",
    "    id INTEGER PRIMARY KEY AUTOINCREMENT UNIQUE NOT NULL,\n",
    "    do VARCHAR(280) NOT NULL,\n",
    "\n",
    "    notes TEXT,\n",
    "    attachments BLOB,\n",
    "    space_id INTEGER,\n",
    "\n",
    "    done INTEGER NOT NULL DEFAULT 0,\n",
    "    draft INTEGER NOT NULL DEFAULT 0,\n",
    "    active INTEGER NOT NULL DEFAULT 1,\n",
    "    deleted INTEGER NOT NULL DEFAULT 0,\n",
    "\n",
    "    priority REAL NOT NULL DEFAULT 0,\n",
    "    level_id INTEGER NOT NULL DEFAULT 0,\n",
    "\n",
    "    deadline INTEGER,\n",
    "    workload INTEGER,\n",
    "\n",
    "    activity_id INTEGER,\n",
    "    difficulty REAL DEFAULT 5,\n",
    "    fear REAL DEFAULT 5,\n",
    "\n",
    "    last_checked INTEGER,\n",
    "    chain TEXT,\n",
    "    FOREIGN KEY (space_id)\n",
    "    REFERENCES spaces (space_id)\n",
    "        ON DELETE SET NULL,\n",
    "    FOREIGN KEY (activity_id)\n",
    "    REFERENCES activities (activity_id)\n",
    "        ON DELETE SET NULL\n",
    "    )\n",
    "    \"\"\"\n",
    "    print(statement)"
   ]
  },
  {
   "cell_type": "code",
   "execution_count": 14,
   "metadata": {},
   "outputs": [
    {
     "data": {
      "text/plain": [
       "True"
      ]
     },
     "execution_count": 14,
     "metadata": {},
     "output_type": "execute_result"
    }
   ],
   "source": [
    "query.exec(statement)"
   ]
  },
  {
   "cell_type": "code",
   "execution_count": 18,
   "metadata": {},
   "outputs": [
    {
     "name": "stdout",
     "output_type": "stream",
     "text": [
      "SELECT space_id FROM spaces WHERE name='foobar';\n"
     ]
    }
   ],
   "source": [
    "statement = f\"\"\"SELECT space_id FROM spaces WHERE name='{d[\"space\"]}';\"\"\"\n",
    "print(statement)"
   ]
  },
  {
   "cell_type": "code",
   "execution_count": 19,
   "metadata": {},
   "outputs": [
    {
     "data": {
      "text/plain": [
       "True"
      ]
     },
     "execution_count": 19,
     "metadata": {},
     "output_type": "execute_result"
    }
   ],
   "source": [
    "query.exec(statement)"
   ]
  },
  {
   "cell_type": "code",
   "execution_count": 22,
   "metadata": {},
   "outputs": [
    {
     "name": "stdout",
     "output_type": "stream",
     "text": [
      "\n",
      "INSERT INTO tasks (do, space_id, done)\n",
      "VALUES ('do something!', \n",
      "(SELECT space_id from spaces WHERE name='foobar'),\n",
      "'0' \n",
      ")\n",
      "  \n"
     ]
    }
   ],
   "source": [
    "                        statement = f\"\"\"\n",
    "INSERT INTO tasks (do, space_id, done)\n",
    "VALUES ('{d[\"do\"]}', \n",
    "(SELECT space_id from spaces WHERE name='{d[\"space\"]}'),\n",
    "'{int(bool(d[\"done\"]))}' \n",
    ")\n",
    "  \"\"\"\n",
    "print(statement)"
   ]
  },
  {
   "cell_type": "code",
   "execution_count": 23,
   "metadata": {},
   "outputs": [
    {
     "data": {
      "text/plain": [
       "True"
      ]
     },
     "execution_count": 23,
     "metadata": {},
     "output_type": "execute_result"
    }
   ],
   "source": [
    "query.exec(statement)"
   ]
  },
  {
   "cell_type": "code",
   "execution_count": 24,
   "metadata": {},
   "outputs": [
    {
     "name": "stdout",
     "output_type": "stream",
     "text": [
      "\n",
      "CREATE TABLE IF NOT EXISTS levels(\n",
      "level_id INTEGER PRIMARY KEY UNIQUE NOT NULL,\n",
      "name VARCHAR(255) NOT NULL UNIQUE\n",
      ")\n",
      "\n"
     ]
    }
   ],
   "source": [
    "    statement = f\"\"\"\n",
    "    CREATE TABLE IF NOT EXISTS levels(\n",
    "    level_id INTEGER PRIMARY KEY UNIQUE NOT NULL,\n",
    "    name VARCHAR(255) NOT NULL UNIQUE\n",
    "    )\n",
    "    \"\"\"\n",
    "    print(statement)\n",
    "    "
   ]
  },
  {
   "cell_type": "code",
   "execution_count": 25,
   "metadata": {},
   "outputs": [
    {
     "data": {
      "text/plain": [
       "True"
      ]
     },
     "execution_count": 25,
     "metadata": {},
     "output_type": "execute_result"
    }
   ],
   "source": [
    "query.exec(statement)"
   ]
  },
  {
   "cell_type": "code",
   "execution_count": 39,
   "metadata": {},
   "outputs": [
    {
     "name": "stdout",
     "output_type": "stream",
     "text": [
      "\n",
      "    INSERT INTO levels (level_id, name)\n",
      "    VALUES (2, 'MUST')\n",
      "    )\n",
      "    \n"
     ]
    }
   ],
   "source": [
    "name = \"MUST\"\n",
    "level_id = 2\n",
    "statement = f\"\"\"\n",
    "    INSERT INTO levels (level_id, name)\n",
    "    VALUES ({level_id}, '{name}')\n",
    "    )\n",
    "    \"\"\"\n",
    "print(statement)"
   ]
  },
  {
   "cell_type": "code",
   "execution_count": 38,
   "metadata": {},
   "outputs": [
    {
     "data": {
      "text/plain": [
       "False"
      ]
     },
     "execution_count": 38,
     "metadata": {},
     "output_type": "execute_result"
    }
   ],
   "source": [
    "query.exec(statement)"
   ]
  },
  {
   "cell_type": "code",
   "execution_count": 13,
   "metadata": {
    "execution": {
     "iopub.execute_input": "2021-03-27T08:24:49.288397Z",
     "iopub.status.busy": "2021-03-27T08:24:49.287987Z",
     "iopub.status.idle": "2021-03-27T08:24:49.405784Z",
     "shell.execute_reply": "2021-03-27T08:24:49.404757Z",
     "shell.execute_reply.started": "2021-03-27T08:24:49.288308Z"
    }
   },
   "outputs": [],
   "source": [
    "from unittest.mock import Mock"
   ]
  },
  {
   "cell_type": "code",
   "execution_count": 15,
   "metadata": {
    "execution": {
     "iopub.execute_input": "2021-03-27T08:25:07.223846Z",
     "iopub.status.busy": "2021-03-27T08:25:07.223508Z",
     "iopub.status.idle": "2021-03-27T08:25:07.433358Z",
     "shell.execute_reply": "2021-03-27T08:25:07.432301Z",
     "shell.execute_reply.started": "2021-03-27T08:25:07.223807Z"
    }
   },
   "outputs": [
    {
     "data": {
      "text/plain": [
       "\u001b[0;31mInit signature:\u001b[0m \u001b[0mMock\u001b[0m\u001b[0;34m(\u001b[0m\u001b[0;34m*\u001b[0m\u001b[0margs\u001b[0m\u001b[0;34m,\u001b[0m \u001b[0;34m**\u001b[0m\u001b[0mkw\u001b[0m\u001b[0;34m)\u001b[0m\u001b[0;34m\u001b[0m\u001b[0;34m\u001b[0m\u001b[0m\n",
       "\u001b[0;31mDocstring:\u001b[0m     \n",
       "Create a new `Mock` object. `Mock` takes several optional arguments\n",
       "that specify the behaviour of the Mock object:\n",
       "\n",
       "* `spec`: This can be either a list of strings or an existing object (a\n",
       "  class or instance) that acts as the specification for the mock object. If\n",
       "  you pass in an object then a list of strings is formed by calling dir on\n",
       "  the object (excluding unsupported magic attributes and methods). Accessing\n",
       "  any attribute not in this list will raise an `AttributeError`.\n",
       "\n",
       "  If `spec` is an object (rather than a list of strings) then\n",
       "  `mock.__class__` returns the class of the spec object. This allows mocks\n",
       "  to pass `isinstance` tests.\n",
       "\n",
       "* `spec_set`: A stricter variant of `spec`. If used, attempting to *set*\n",
       "  or get an attribute on the mock that isn't on the object passed as\n",
       "  `spec_set` will raise an `AttributeError`.\n",
       "\n",
       "* `side_effect`: A function to be called whenever the Mock is called. See\n",
       "  the `side_effect` attribute. Useful for raising exceptions or\n",
       "  dynamically changing return values. The function is called with the same\n",
       "  arguments as the mock, and unless it returns `DEFAULT`, the return\n",
       "  value of this function is used as the return value.\n",
       "\n",
       "  If `side_effect` is an iterable then each call to the mock will return\n",
       "  the next value from the iterable. If any of the members of the iterable\n",
       "  are exceptions they will be raised instead of returned.\n",
       "\n",
       "* `return_value`: The value returned when the mock is called. By default\n",
       "  this is a new Mock (created on first access). See the\n",
       "  `return_value` attribute.\n",
       "\n",
       "* `wraps`: Item for the mock object to wrap. If `wraps` is not None then\n",
       "  calling the Mock will pass the call through to the wrapped object\n",
       "  (returning the real result). Attribute access on the mock will return a\n",
       "  Mock object that wraps the corresponding attribute of the wrapped object\n",
       "  (so attempting to access an attribute that doesn't exist will raise an\n",
       "  `AttributeError`).\n",
       "\n",
       "  If the mock has an explicit `return_value` set then calls are not passed\n",
       "  to the wrapped object and the `return_value` is returned instead.\n",
       "\n",
       "* `name`: If the mock has a name then it will be used in the repr of the\n",
       "  mock. This can be useful for debugging. The name is propagated to child\n",
       "  mocks.\n",
       "\n",
       "Mocks can also be called with arbitrary keyword arguments. These will be\n",
       "used to set attributes on the mock after it is created.\n",
       "\u001b[0;31mFile:\u001b[0m           ~/anaconda3/lib/python3.8/unittest/mock.py\n",
       "\u001b[0;31mType:\u001b[0m           type\n",
       "\u001b[0;31mSubclasses:\u001b[0m     MagicMock, AsyncMock, PropertyMock, Mock\n"
      ]
     },
     "metadata": {},
     "output_type": "display_data"
    }
   ],
   "source": [
    "m = Mock?"
   ]
  },
  {
   "cell_type": "code",
   "execution_count": 21,
   "metadata": {
    "execution": {
     "iopub.execute_input": "2021-03-27T08:37:29.421280Z",
     "iopub.status.busy": "2021-03-27T08:37:29.420939Z",
     "iopub.status.idle": "2021-03-27T08:37:29.430545Z",
     "shell.execute_reply": "2021-03-27T08:37:29.429733Z",
     "shell.execute_reply.started": "2021-03-27T08:37:29.421240Z"
    }
   },
   "outputs": [],
   "source": [
    "m = Mock()"
   ]
  },
  {
   "cell_type": "code",
   "execution_count": 22,
   "metadata": {
    "execution": {
     "iopub.execute_input": "2021-03-27T08:37:33.046050Z",
     "iopub.status.busy": "2021-03-27T08:37:33.045692Z",
     "iopub.status.idle": "2021-03-27T08:37:33.055209Z",
     "shell.execute_reply": "2021-03-27T08:37:33.053732Z",
     "shell.execute_reply.started": "2021-03-27T08:37:33.046010Z"
    }
   },
   "outputs": [],
   "source": [
    "m.debugging = True"
   ]
  },
  {
   "cell_type": "code",
   "execution_count": 23,
   "metadata": {
    "execution": {
     "iopub.execute_input": "2021-03-27T08:37:34.205683Z",
     "iopub.status.busy": "2021-03-27T08:37:34.205338Z",
     "iopub.status.idle": "2021-03-27T08:37:34.218004Z",
     "shell.execute_reply": "2021-03-27T08:37:34.216828Z",
     "shell.execute_reply.started": "2021-03-27T08:37:34.205644Z"
    }
   },
   "outputs": [
    {
     "data": {
      "text/plain": [
       "True"
      ]
     },
     "execution_count": 23,
     "metadata": {},
     "output_type": "execute_result"
    }
   ],
   "source": [
    "m.debugging"
   ]
  }
 ],
 "metadata": {
  "kernelspec": {
   "display_name": "Python 3",
   "language": "python",
   "name": "python3"
  },
  "language_info": {
   "codemirror_mode": {
    "name": "ipython",
    "version": 3
   },
   "file_extension": ".py",
   "mimetype": "text/x-python",
   "name": "python",
   "nbconvert_exporter": "python",
   "pygments_lexer": "ipython3",
   "version": "3.8.5"
  }
 },
 "nbformat": 4,
 "nbformat_minor": 4
}
