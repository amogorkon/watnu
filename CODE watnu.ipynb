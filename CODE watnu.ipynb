{
 "cells": [
  {
   "cell_type": "code",
   "execution_count": 1,
   "metadata": {},
   "outputs": [
    {
     "data": {
      "text/plain": [
       "'abbbbbbbbbbbbbbbbbbbbbbbbbbbbbbbbbbbbbbbbbbbbbbbbbbbbbbbbbbbbbbbbbbbbbbbbbbbbbbbbbbbbbbbbbbbbbbbbbbbbbbbbbbbbbbbbbbbbbbbbbbbbbbbbbbbbbbbbbbbbbbbbbbbbbbbbbbbbbbbbbbbbbbbbbbbbbbbbbbbbbbbbbbbbbbbbbbbbbbbbbbbbbbbbbbbbbbbbbbbbbbbbbbbbbbbbbbbbbbc'"
      ]
     },
     "execution_count": 1,
     "metadata": {},
     "output_type": "execute_result"
    }
   ],
   "source": [
    "\"a\"+\"b\"*238+\"c\""
   ]
  },
  {
   "cell_type": "code",
   "execution_count": null,
   "metadata": {},
   "outputs": [],
   "source": [
    "%%writefile watnu/config.stay\n",
    "\n",
    "first_start: yes\n",
    "database: watnu.sqlite\n",
    "todo_files: [lesen.TODO]\n",
    "throw: 1\n",
    "lucky_num: 1\n",
    "count: 6"
   ]
  },
  {
   "cell_type": "code",
   "execution_count": null,
   "metadata": {},
   "outputs": [],
   "source": [
    "import datetime\n",
    "import pony.orm as pny\n",
    " \n",
    "database = pny.Database(\"sqlite\",\n",
    "                        \"music.sqlite\",\n",
    "                        create_db=True)\n",
    " \n",
    "\n",
    "class Artist(database.Entity):\n",
    "    \"\"\"\n",
    "    Pony ORM model of the Artist table\n",
    "    \"\"\"\n",
    "    name = pny.Required(unicode)\n",
    "    albums = pny.Set(\"Album\")\n",
    " \n",
    "\n",
    "class Album(database.Entity):\n",
    "    \"\"\"\n",
    "    Pony ORM model of album table\n",
    "    \"\"\"\n",
    "    artist = pny.Required(Artist)\n",
    "    title = pny.Required(unicode)\n",
    "    release_date = pny.Required(datetime.date)\n",
    "    publisher = pny.Required(unicode)\n",
    "    media_type = pny.Required(unicode)\n",
    " \n",
    "# turn on debug mode\n",
    "pny.sql_debug(True)\n",
    " \n",
    "# map the models to the database \n",
    "# and create the tables, if they don't exist\n",
    "database.generate_mapping(create_tables=True)"
   ]
  },
  {
   "cell_type": "code",
   "execution_count": null,
   "metadata": {},
   "outputs": [],
   "source": [
    "import datetime\n",
    "import pony.orm as pny\n",
    " \n",
    "from models import Album, Artist\n",
    " \n",
    "#----------------------------------------------------------------------\n",
    "@pny.db_session\n",
    "def add_data():\n",
    "    \"\"\"\"\"\"\n",
    " \n",
    "    new_artist = Artist(name=u\"Newsboys\")\n",
    "    bands = [u\"MXPX\", u\"Kutless\", u\"Thousand Foot Krutch\"]\n",
    "    for band in bands:\n",
    "        artist = Artist(name=band)\n",
    " \n",
    "    album = Album(artist=new_artist,\n",
    "                  title=u\"Read All About It\",\n",
    "                  release_date=datetime.date(1988,12,01),\n",
    "                  publisher=u\"Refuge\",\n",
    "                  media_type=u\"CD\")\n",
    " \n",
    "    albums = [{\"artist\": new_artist,\n",
    "               \"title\": \"Hell is for Wimps\",\n",
    "               \"release_date\": datetime.date(1990,07,31),\n",
    "               \"publisher\": \"Sparrow\",\n",
    "               \"media_type\": \"CD\"\n",
    "               },\n",
    "              {\"artist\": new_artist,\n",
    "               \"title\": \"Love Liberty Disco\", \n",
    "               \"release_date\": datetime.date(1999,11,16),\n",
    "               \"publisher\": \"Sparrow\",\n",
    "               \"media_type\": \"CD\"\n",
    "              },\n",
    "              {\"artist\": new_artist,\n",
    "               \"title\": \"Thrive\",\n",
    "               \"release_date\": datetime.date(2002,03,26),\n",
    "               \"publisher\": \"Sparrow\",\n",
    "               \"media_type\": \"CD\"}\n",
    "              ]\n",
    " \n",
    "    for album in albums:\n",
    "        a = Album(**album)\n",
    " \n",
    "if __name__ == \"__main__\":\n",
    "    add_data()\n",
    " \n",
    "    # use db_session as a context manager\n",
    "    with pny.db_session:\n",
    "        a = Artist(name=\"Skillet\")"
   ]
  },
  {
   "cell_type": "code",
   "execution_count": null,
   "metadata": {},
   "outputs": [],
   "source": [
    "from typing import List, Optional\n",
    "from enum import Enum\n",
    "from datetime import datetime\n",
    "from pydantic.dataclasses import dataclass\n",
    "from random import choice\n",
    "l\n",
    "ACTIVITY = Enum(\"ACTIVITY\", \"strength stamina intellect social spirit\")\n",
    "LEVEL = Enum(\"LEVEL\", \"MUST SHOULD MAY SHOULD_NOT MUST_NOT\")\n",
    "\n",
    "@dataclass\n",
    "class Task:\n",
    "    do: str\n",
    "    namespace: Optional[str] = None\n",
    "    #uuid: str = None\n",
    "    \n",
    "    comment: Optional[str] = None\n",
    "    done: bool = False\n",
    "    active: bool = True\n",
    "    deleted: bool = False\n",
    "    draft: bool = False\n",
    "    \n",
    "    priority: float = 1\n",
    "    level: LEVEL = LEVEL.MAY\n",
    "    \n",
    "    activity: Optional[ACTIVITY] = None\n",
    "    fear: float = 5\n",
    "    difficulty: float = 5\n",
    "    urgency: float = 5\n",
    "    size: int = 1\n",
    "    last_time: Optional[datetime] = None\n",
    "    deadline: Optional[datetime] = None\n",
    "    dependencies: Optional[List[str]] = None\n",
    "    reconsider: Optional[str] = None\n",
    "    ETC: Optional[int] = None\n",
    "        \n",
    "\n",
    "l = [Task(do=\"1\", priority=1), Task(do=\"2\", priority=2)]\n",
    "\n",
    "\n",
    "def schedule_by_priority(L):\n",
    "    def weight(t):\n",
    "        return t.priority\n",
    "    tasks = sorted(L, key=weight)\n",
    "    yield tasks.pop()\n",
    "    \n",
    "def schedule_by_balance(L):\n",
    "    pass\n",
    "\n",
    "def schedule_by_timing(L):\n",
    "    pass\n"
   ]
  },
  {
   "cell_type": "code",
   "execution_count": null,
   "metadata": {},
   "outputs": [],
   "source": [
    "%%writefile Desktop/schedule.py\n",
    "\n",
    "\"\"\"\n",
    "Different ways to order tasks in a generalized Scheduler.\n",
    "\n",
    ":Author: Anselm Kiefner\n",
    ":Version: 2\n",
    ":Date: 2018-11-12\n",
    "\"\"\"\n",
    "import random\n",
    "\n",
    "\n",
    "def schedule_by_priority(tasks):\n",
    "    '''Focus on priorities and getting stuff done.'''\n",
    "\n",
    "    # since we have the tasks pre-ordered by level and priority, we can\n",
    "    # assume this and only consider the items of the highest used level.\n",
    "    # Actually testing this assertion is quite difficult, though.\n",
    "\n",
    "    # we need to check for the two special cases first\n",
    "    if len(tasks) == 0:\n",
    "        return None\n",
    "\n",
    "    if len(tasks) == 1:\n",
    "        return tasks[0]\n",
    "\n",
    "    considered_level = tasks[0].level\n",
    "    considered_priority = tasks[0].priority\n",
    "\n",
    "    # L is a list of the highest level and priority tasks only,\n",
    "    # all tasks in this list are equal in both.\n",
    "\n",
    "    L = []\n",
    "\n",
    "    for t in tasks:\n",
    "        # the first item is always in\n",
    "        if t.level < considered_level:\n",
    "            break\n",
    "        if t.priority < considered_priority:\n",
    "            break\n",
    "        L.append(t)\n",
    "\n",
    "    # Since all items in the list are equally viable, we make sure there\n",
    "    # is no hidden arbitrary order.\n",
    "    assert len(L) > 0, 'L must have at least one item, we checked that!'\n",
    "    result = random.choice(L)\n",
    "\n",
    "    return result"
   ]
  },
  {
   "cell_type": "code",
   "execution_count": null,
   "metadata": {},
   "outputs": [],
   "source": [
    "def schedule_by_balance(tasks):\n",
    "    '''Focus on balance of activities.\n",
    "\n",
    "    1) Round-Robin of activities.\n",
    "    2) Round-Robin of time spend on tasks.\n",
    "    3) Round-Robin of poking at tasks (weakest criteria)\n",
    "    '''\n",
    "\n",
    "    # This needs to be done before passing the tasks in!\n",
    "    # 1) find the activity A with the least time spent\n",
    "    # 2) get all the tasks with A\n",
    "\n",
    "    # Need to take care of the two degenerated cases first\n",
    "    if len(tasks) == 0:\n",
    "        return None\n",
    "    if len(tasks) == 1:\n",
    "        return tasks[0]\n",
    "\n",
    "    def sort_by_time_spent_and_poke(L):\n",
    "        assert all(t.activity == L[0].activity for t in L), \\\n",
    "            \"Missed getting rid of tasks with ignored activities\"\n",
    "\n",
    "        # 3) poked at is the weaker criteria, so it gets first\n",
    "        poked = sorted(L, key=lambda t: t.poked_at)\n",
    "        # 4) time spend on tasks overrules poked at, so it gets second\n",
    "        tended = sorted(poked, key=lambda t: t.get_abs_seconds())\n",
    "        return tended\n",
    "\n",
    "    assert len(tasks) > 0, 'How did we end up with an empty list?'\n",
    "    result = sort_by_time_spent_and_poke(tasks)[0]\n",
    "\n",
    "    return result\n",
    "\n",
    "def schedule_by_timing(tasks):\n",
    "    '''Schedule by timing. '''\n",
    "\n",
    "    # 1) We check for tasks with the same tags as the last completed one\n",
    "    # as we prefer related tasks as a baseline.\n",
    "    # we remove task by task if they don't have a tag in common\n",
    "\n",
    "    # TODO yeah.. thats obvious.\n",
    "    if len(tasks) == 0:\n",
    "        return None\n",
    "    return tasks[0]\n",
    "\n",
    "def orderMu(tasks):\n",
    "    '''FIFO.'''\n",
    "    try:\n",
    "        return tasks[0]\n",
    "    except KeyError:\n",
    "        return None\n",
    "\n",
    "\n",
    "def weight_task(task):\n",
    "    return (0.3 * weight_by_affinity(task) +\n",
    "            0.3 * weight_by_deadline(task) +\n",
    "            0.3 * weight_by_ETC(task)\n",
    "            )\n",
    "\n",
    "def weight_by_affinity(task):\n",
    "    \"\"\"Take the calculated .\"\"\"\n",
    "    return 0\n",
    "\n",
    "def weight_by_deadline(task):\n",
    "    return 0\n",
    "\n",
    "def weight_by_ETC(task):\n",
    "    return 0\n",
    "\n",
    "def loop_the_list(order, tasks):\n",
    "    \"\"\"\n",
    "    Scheduler functions only return the best fit per list, dropping the rest,\n",
    "    which is normally the most efficient approach.\n",
    "    For testing purposes however we need to see in which order a scheduler would\n",
    "    return the items.\n",
    "    To simplify testing, we take the order function and the tasks that need to\n",
    "    be ordered, then we repeatedly feed the list, removing results one by one.\n",
    "    We return the names of the tasks, concatenated as one string so we can test\n",
    "    against 'abc', which greatly improves readability.\n",
    "    We also have to make sure we can use it on queries.\n",
    "    \"\"\"\n",
    "\n",
    "    tasks = list(tasks)\n",
    "\n",
    "    result = \"\"\n",
    "\n",
    "    for i in range(len(tasks)):\n",
    "        feed = tasks.copy()\n",
    "        X = order(feed, context)\n",
    "        assert X in feed or X is None, \"order isn't supposed to produce stuff..\"\n",
    "        try:\n",
    "            result += X.name\n",
    "            tasks.remove(X)\n",
    "        # if order returns None\n",
    "        except AttributeError:\n",
    "            pass\n",
    "    return result"
   ]
  },
  {
   "cell_type": "markdown",
   "metadata": {},
   "source": [
    "To determine the optimal schedule (timer), there needs to be a model of the user including biological needs and customs."
   ]
  },
  {
   "cell_type": "code",
   "execution_count": null,
   "metadata": {},
   "outputs": [],
   "source": [
    "@dataclass\n",
    "class Task:\n",
    "    do: str\n",
    "    namespace: str = field(keyword)\n",
    "    uuid: UUID = field(default_factory(uuid4))\n",
    "\n",
    "    comment: str = None\n",
    "    done: bool = False\n",
    "    active: bool = True\n",
    "    deleted: bool = False\n",
    "    draft: bool = False\n",
    "\n",
    "    priority: float = 1\n",
    "    level: LEVEL = LEVEL.MAY\n",
    "\n",
    "    activity: ACTIVITY = None\n",
    "    fear: float = 5\n",
    "    difficulty: float = 5\n",
    "    urgency: float = 5\n",
    "    size: int = 1\n",
    "    last_time: Optional[datetime] = None\n",
    "    deadline: Optional[datetime] = None\n",
    "    dependencies: Optional[List[str]] = None\n",
    "    reconsider: Optional[str] = None\n",
    "    ETC: Optional[int] = None\n",
    "\n",
    "    def __hash__(self):\n",
    "        return self.uuid.int\n",
    "\n",
    "    def __str__(self):\n",
    "        return self.do"
   ]
  },
  {
   "cell_type": "code",
   "execution_count": null,
   "metadata": {},
   "outputs": [],
   "source": [
    "def schedule_by_random(tasks, *, count, coin, lucky_number):\n",
    "    coin_throws = 0b1 + count\n",
    "    seed((coin_throws ^ lucky_number) * count)\n",
    "    return choice(tasks)"
   ]
  },
  {
   "cell_type": "code",
   "execution_count": 12,
   "metadata": {},
   "outputs": [],
   "source": [
    "d = {\"a\": 1, \"b\": 2, \"c\":}\n",
    "\n",
    "class Config:\n",
    "    c = 1\n",
    "    def __init__(self, **kwargs):\n",
    "        self.__dict__.update(kwargs)\n",
    "        \n",
    "c = Config(**d)"
   ]
  },
  {
   "cell_type": "code",
   "execution_count": 13,
   "metadata": {},
   "outputs": [
    {
     "data": {
      "text/plain": [
       "1"
      ]
     },
     "execution_count": 13,
     "metadata": {},
     "output_type": "execute_result"
    }
   ],
   "source": [
    "c.c"
   ]
  },
  {
   "cell_type": "code",
   "execution_count": null,
   "metadata": {},
   "outputs": [],
   "source": [
    "class Config:\n",
    "    def __init__(\n",
    "        self,\n",
    "        *,\n",
    "        first_start: bool = True,\n",
    "        database: str = \"watnu.sqlite\",\n",
    "        throw: int = 0b1,\n",
    "        lucky_num: int = 1,\n",
    "        count: int = 1,\n",
    "    ):\n",
    "        self.__dict__.update(kwargs)\n",
    "\n",
    "    def write(self):\n",
    "        with open(\"config.stay\", \"w\") as f:\n",
    "            s = dumps(self)\n",
    "            try:\n",
    "                f.write(dumps(self))\n",
    "            except:\n",
    "                print(\"COULD NOT WRITE CONFIG!\")"
   ]
  },
  {
   "cell_type": "code",
   "execution_count": 1,
   "metadata": {},
   "outputs": [
    {
     "name": "stdout",
     "output_type": "stream",
     "text": [
      "/media/sf_Dropbox/code/watnu/master/src/watnu\n"
     ]
    }
   ],
   "source": [
    "%cd /media/sf_Dropbox/code/watnu/master/src/watnu/"
   ]
  },
  {
   "cell_type": "code",
   "execution_count": 2,
   "metadata": {},
   "outputs": [],
   "source": [
    "from PyQt5.QtSql import QSqlQuery, QSqlDatabase"
   ]
  },
  {
   "cell_type": "code",
   "execution_count": 3,
   "metadata": {},
   "outputs": [
    {
     "data": {
      "text/plain": [
       "True"
      ]
     },
     "execution_count": 3,
     "metadata": {},
     "output_type": "execute_result"
    }
   ],
   "source": [
    "db = QSqlDatabase.addDatabase(\"QSQLITE\")\n",
    "db.setDatabaseName(\"watnu.sqlite\")\n",
    "db.open()"
   ]
  },
  {
   "cell_type": "code",
   "execution_count": 4,
   "metadata": {},
   "outputs": [],
   "source": [
    "query = QSqlQuery()"
   ]
  },
  {
   "cell_type": "code",
   "execution_count": 36,
   "metadata": {},
   "outputs": [],
   "source": [
    "statement = f\"\"\"\n",
    "CREATE TABLE IF NOT EXISTS spaces(\n",
    "id INTEGER PRIMARY KEY AUTOINCREMENT UNIQUE NOT NULL,\n",
    "name VARCHAR(255) NOT NULL\n",
    ")\n",
    "\"\"\""
   ]
  },
  {
   "cell_type": "code",
   "execution_count": 37,
   "metadata": {},
   "outputs": [
    {
     "data": {
      "text/plain": [
       "True"
      ]
     },
     "execution_count": 37,
     "metadata": {},
     "output_type": "execute_result"
    }
   ],
   "source": [
    "query.exec(statement)"
   ]
  },
  {
   "cell_type": "code",
   "execution_count": 42,
   "metadata": {},
   "outputs": [],
   "source": [
    "    statement = f\"\"\"\n",
    "    CREATE TABLE IF NOT EXISTS tasks (\n",
    "    id INTEGER PRIMARY KEY AUTOINCREMENT UNIQUE NOT NULL,\n",
    "    do VARCHAR(280) NOT NULL,\n",
    "    namespace_id INTEGER NOT NULL,\n",
    "    done INTEGER NOT NULL DEFAULT 0,\n",
    "    FOREIGN KEY (namespace_id) REFERENCES namespaces (id)\n",
    "    )\n",
    "    \"\"\""
   ]
  },
  {
   "cell_type": "code",
   "execution_count": 43,
   "metadata": {},
   "outputs": [
    {
     "data": {
      "text/plain": [
       "True"
      ]
     },
     "execution_count": 43,
     "metadata": {},
     "output_type": "execute_result"
    }
   ],
   "source": [
    "query.exec(statement)"
   ]
  },
  {
   "cell_type": "code",
   "execution_count": 4,
   "metadata": {},
   "outputs": [],
   "source": [
    "from PyQt5.QtCore import QDateTime, QTime"
   ]
  },
  {
   "cell_type": "code",
   "execution_count": 6,
   "metadata": {},
   "outputs": [
    {
     "data": {
      "text/plain": [
       "1608312636"
      ]
     },
     "execution_count": 6,
     "metadata": {},
     "output_type": "execute_result"
    }
   ],
   "source": [
    "time = QDateTime()\n",
    "time.currentSecsSinceEpoch()"
   ]
  },
  {
   "cell_type": "code",
   "execution_count": 18,
   "metadata": {},
   "outputs": [
    {
     "name": "stdout",
     "output_type": "stream",
     "text": [
      "/media/sf_Dropbox/code/watnu\n"
     ]
    }
   ],
   "source": [
    "cd .."
   ]
  },
  {
   "cell_type": "code",
   "execution_count": 21,
   "metadata": {},
   "outputs": [
    {
     "name": "stdout",
     "output_type": "stream",
     "text": [
      "insgesamt 32\n",
      "drwxrwx--- 1 root 8192 Dez 17 22:10 \u001b[0m\u001b[01;34mbox\u001b[0m/\n",
      "drwxrwx--- 1 root 4096 Dez 18 18:59 \u001b[01;34mmaster\u001b[0m/\n",
      "drwxrwx--- 1 root 4096 Dez 11 17:34 \u001b[01;34mproto-code-structure\u001b[0m/\n",
      "drwxrwx--- 1 root 4096 Jul 12 16:55 \u001b[01;34mproto-loader\u001b[0m/\n",
      "drwxrwx--- 1 root 4096 Jul 11 15:08 \u001b[01;34mproto-loader-core\u001b[0m/\n",
      "drwxrwx--- 1 root 4096 Dez  8 12:33 \u001b[01;34mproto-sql\u001b[0m/\n",
      "drwxrwx--- 1 root 4096 Dez  3 15:29 \u001b[01;34mproto-vertical\u001b[0m/\n"
     ]
    }
   ],
   "source": [
    "ll"
   ]
  },
  {
   "cell_type": "code",
   "execution_count": 22,
   "metadata": {},
   "outputs": [],
   "source": [
    "from shlex import split"
   ]
  },
  {
   "cell_type": "code",
   "execution_count": 23,
   "metadata": {},
   "outputs": [
    {
     "data": {
      "text/plain": [
       "['#test', 'foo', 'bar', '#baz-bla', '#20']"
      ]
     },
     "execution_count": 23,
     "metadata": {},
     "output_type": "execute_result"
    }
   ],
   "source": [
    "s = \"#test foo bar #baz-bla #20\"\n",
    "parts = split(s)"
   ]
  },
  {
   "cell_type": "code",
   "execution_count": 24,
   "metadata": {},
   "outputs": [
    {
     "data": {
      "text/plain": [
       "['#test', '#baz-bla', '#20']"
      ]
     },
     "execution_count": 24,
     "metadata": {},
     "output_type": "execute_result"
    }
   ],
   "source": [
    "[p for p in split(s) if p.startswith(\"#\")]"
   ]
  },
  {
   "cell_type": "code",
   "execution_count": 28,
   "metadata": {},
   "outputs": [
    {
     "name": "stdout",
     "output_type": "stream",
     "text": [
      "/media/sf_Dropbox/code/watnu/master/src/watnu/lib\n"
     ]
    }
   ],
   "source": [
    "cd master/src/watnu/lib"
   ]
  },
  {
   "cell_type": "code",
   "execution_count": 29,
   "metadata": {},
   "outputs": [],
   "source": [
    "from fluxx import StateMachine"
   ]
  },
  {
   "cell_type": "code",
   "execution_count": 30,
   "metadata": {},
   "outputs": [],
   "source": [
    "from enum import Enum"
   ]
  },
  {
   "cell_type": "code",
   "execution_count": 31,
   "metadata": {},
   "outputs": [],
   "source": [
    "S = Enum(\"STATE\", \"init main editing running final\")\n"
   ]
  },
  {
   "cell_type": "code",
   "execution_count": 34,
   "metadata": {},
   "outputs": [],
   "source": [
    "state = StateMachine(initial=S.init, \n",
    "    states={S.init:{S.main},\n",
    "            S.main:{S.final, S.running, S.editing},\n",
    "            S.running: {S.main},\n",
    "            S.editing: {S.main, S.final}},\n",
    "                    )"
   ]
  },
  {
   "cell_type": "code",
   "execution_count": 37,
   "metadata": {},
   "outputs": [
    {
     "data": {
      "text/plain": [
       "True"
      ]
     },
     "execution_count": 37,
     "metadata": {},
     "output_type": "execute_result"
    }
   ],
   "source": [
    "state() is S.init"
   ]
  }
 ],
 "metadata": {
  "kernelspec": {
   "display_name": "Python 3",
   "language": "python",
   "name": "python3"
  },
  "language_info": {
   "codemirror_mode": {
    "name": "ipython",
    "version": 3
   },
   "file_extension": ".py",
   "mimetype": "text/x-python",
   "name": "python",
   "nbconvert_exporter": "python",
   "pygments_lexer": "ipython3",
   "version": "3.8.3"
  }
 },
 "nbformat": 4,
 "nbformat_minor": 4
}
