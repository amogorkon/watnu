{
 "cells": [
  {
   "cell_type": "code",
   "execution_count": 10,
   "metadata": {},
   "outputs": [
    {
     "name": "stdout",
     "output_type": "stream",
     "text": [
      "Overwriting test_units.py\n"
     ]
    }
   ],
   "source": [
    "%%writefile test_units.py\n",
    "\n",
    "import os, sys\n",
    "here = os.path.split(os.path.abspath(os.path.dirname(__file__)))\n",
    "src = os.path.join(here[0], \"src/watnu\")\n",
    "sys.path.append(src)\n",
    "\n",
    "from hypothesis import given, strategies as st, assume, settings, HealthCheck\n",
    "from pytest import fixture, raises\n",
    "\n",
    "def test_dependencies():\n",
    "    from stay import load, dumps"
   ]
  },
  {
   "cell_type": "code",
   "execution_count": 2,
   "metadata": {},
   "outputs": [
    {
     "name": "stdout",
     "output_type": "stream",
     "text": [
      "Overwriting test_functionality.py\n"
     ]
    }
   ],
   "source": [
    "%%writefile test_functionality.py\n",
    "\n",
    "from pytest import fixture\n",
    "from unittest.mock import Mock"
   ]
  }
 ],
 "metadata": {
  "kernelspec": {
   "display_name": "Python 3",
   "language": "python",
   "name": "python3"
  },
  "language_info": {
   "codemirror_mode": {
    "name": "ipython",
    "version": 3
   },
   "file_extension": ".py",
   "mimetype": "text/x-python",
   "name": "python",
   "nbconvert_exporter": "python",
   "pygments_lexer": "ipython3",
   "version": "3.7.0"
  }
 },
 "nbformat": 4,
 "nbformat_minor": 2
}
