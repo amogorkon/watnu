{
 "cells": [
  {
   "cell_type": "code",
   "execution_count": 1,
   "metadata": {},
   "outputs": [],
   "source": [
    "from PyQt5.QtSql import QSqlQuery, QSqlDatabase"
   ]
  },
  {
   "cell_type": "code",
   "execution_count": 2,
   "metadata": {},
   "outputs": [
    {
     "name": "stdout",
     "output_type": "stream",
     "text": [
      "/media/sf_Dropbox/code/watnu/master/test\n"
     ]
    }
   ],
   "source": [
    "%cd /media/sf_Dropbox/code/watnu/master/test/"
   ]
  },
  {
   "cell_type": "code",
   "execution_count": 3,
   "metadata": {},
   "outputs": [],
   "source": [
    "%rm watnu.sqlite"
   ]
  },
  {
   "cell_type": "code",
   "execution_count": 4,
   "metadata": {},
   "outputs": [
    {
     "data": {
      "text/plain": [
       "True"
      ]
     },
     "execution_count": 4,
     "metadata": {},
     "output_type": "execute_result"
    }
   ],
   "source": [
    "db = QSqlDatabase.addDatabase(\"QSQLITE\")\n",
    "db.setDatabaseName(\"watnu.sqlite\")\n",
    "db.open()"
   ]
  },
  {
   "cell_type": "code",
   "execution_count": 5,
   "metadata": {},
   "outputs": [],
   "source": [
    "query = QSqlQuery()"
   ]
  },
  {
   "cell_type": "code",
   "execution_count": 6,
   "metadata": {},
   "outputs": [
    {
     "name": "stdout",
     "output_type": "stream",
     "text": [
      "\n",
      "CREATE TABLE IF NOT EXISTS spaces(\n",
      "space_id INTEGER PRIMARY KEY AUTOINCREMENT UNIQUE NOT NULL,\n",
      "name VARCHAR(255) NOT NULL UNIQUE\n",
      ")\n",
      "\n"
     ]
    }
   ],
   "source": [
    "    statement = f\"\"\"\n",
    "    CREATE TABLE IF NOT EXISTS spaces(\n",
    "    space_id INTEGER PRIMARY KEY AUTOINCREMENT UNIQUE NOT NULL,\n",
    "    name VARCHAR(255) NOT NULL UNIQUE\n",
    "    )\n",
    "    \"\"\"\n",
    "print(statement)"
   ]
  },
  {
   "cell_type": "code",
   "execution_count": 7,
   "metadata": {},
   "outputs": [
    {
     "data": {
      "text/plain": [
       "True"
      ]
     },
     "execution_count": 7,
     "metadata": {},
     "output_type": "execute_result"
    }
   ],
   "source": [
    "query.exec(statement)"
   ]
  },
  {
   "cell_type": "code",
   "execution_count": 8,
   "metadata": {},
   "outputs": [],
   "source": [
    "d = {\"do\": \"do something!\",\n",
    "    \"space\": \"foobar\",\n",
    "    \"done\": False}"
   ]
  },
  {
   "cell_type": "code",
   "execution_count": 9,
   "metadata": {},
   "outputs": [
    {
     "name": "stdout",
     "output_type": "stream",
     "text": [
      "\n",
      "INSERT OR IGNORE INTO spaces (name)\n",
      "VALUES ('foobar')\n",
      "\n"
     ]
    }
   ],
   "source": [
    "statement = f\"\"\"\n",
    "INSERT OR IGNORE INTO spaces (name)\n",
    "VALUES ('{d[\"space\"]}')\n",
    "\"\"\"\n",
    "print(statement)"
   ]
  },
  {
   "cell_type": "code",
   "execution_count": 10,
   "metadata": {},
   "outputs": [
    {
     "data": {
      "text/plain": [
       "True"
      ]
     },
     "execution_count": 10,
     "metadata": {},
     "output_type": "execute_result"
    }
   ],
   "source": [
    "query.exec(statement)"
   ]
  },
  {
   "cell_type": "code",
   "execution_count": 11,
   "metadata": {},
   "outputs": [
    {
     "name": "stdout",
     "output_type": "stream",
     "text": [
      "\n",
      "CREATE TABLE IF NOT EXISTS activities(\n",
      "activity_id INTEGER PRIMARY KEY AUTOINCREMENT UNIQUE NOT NULL,\n",
      "name VARCHAR(255) NOT NULL UNIQUE\n",
      ")\n",
      "\n"
     ]
    }
   ],
   "source": [
    "    statement = f\"\"\"\n",
    "    CREATE TABLE IF NOT EXISTS activities(\n",
    "    activity_id INTEGER PRIMARY KEY AUTOINCREMENT UNIQUE NOT NULL,\n",
    "    name VARCHAR(255) NOT NULL UNIQUE\n",
    "    )\n",
    "    \"\"\"\n",
    "    print(statement)"
   ]
  },
  {
   "cell_type": "code",
   "execution_count": 12,
   "metadata": {},
   "outputs": [
    {
     "data": {
      "text/plain": [
       "True"
      ]
     },
     "execution_count": 12,
     "metadata": {},
     "output_type": "execute_result"
    }
   ],
   "source": [
    "query.exec(statement)"
   ]
  },
  {
   "cell_type": "code",
   "execution_count": 13,
   "metadata": {},
   "outputs": [
    {
     "name": "stdout",
     "output_type": "stream",
     "text": [
      "\n",
      "CREATE TABLE IF NOT EXISTS tasks (\n",
      "id INTEGER PRIMARY KEY AUTOINCREMENT UNIQUE NOT NULL,\n",
      "do VARCHAR(280) NOT NULL,\n",
      "\n",
      "notes TEXT,\n",
      "attachments BLOB,\n",
      "space_id INTEGER,\n",
      "\n",
      "done INTEGER NOT NULL DEFAULT 0,\n",
      "draft INTEGER NOT NULL DEFAULT 0,\n",
      "active INTEGER NOT NULL DEFAULT 1,\n",
      "deleted INTEGER NOT NULL DEFAULT 0,\n",
      "\n",
      "priority REAL NOT NULL DEFAULT 0,\n",
      "level_id INTEGER NOT NULL DEFAULT 0,\n",
      "\n",
      "deadline INTEGER,\n",
      "workload INTEGER,\n",
      "\n",
      "activity_id INTEGER,\n",
      "difficulty REAL DEFAULT 5,\n",
      "fear REAL DEFAULT 5,\n",
      "\n",
      "last_checked INTEGER,\n",
      "chain TEXT,\n",
      "FOREIGN KEY (space_id)\n",
      "REFERENCES spaces (space_id)\n",
      "    ON DELETE SET NULL,\n",
      "FOREIGN KEY (activity_id)\n",
      "REFERENCES activities (activity_id)\n",
      "    ON DELETE SET NULL\n",
      ")\n",
      "\n"
     ]
    }
   ],
   "source": [
    "    statement = f\"\"\"\n",
    "    CREATE TABLE IF NOT EXISTS tasks (\n",
    "    id INTEGER PRIMARY KEY AUTOINCREMENT UNIQUE NOT NULL,\n",
    "    do VARCHAR(280) NOT NULL,\n",
    "\n",
    "    notes TEXT,\n",
    "    attachments BLOB,\n",
    "    space_id INTEGER,\n",
    "\n",
    "    done INTEGER NOT NULL DEFAULT 0,\n",
    "    draft INTEGER NOT NULL DEFAULT 0,\n",
    "    active INTEGER NOT NULL DEFAULT 1,\n",
    "    deleted INTEGER NOT NULL DEFAULT 0,\n",
    "\n",
    "    priority REAL NOT NULL DEFAULT 0,\n",
    "    level_id INTEGER NOT NULL DEFAULT 0,\n",
    "\n",
    "    deadline INTEGER,\n",
    "    workload INTEGER,\n",
    "\n",
    "    activity_id INTEGER,\n",
    "    difficulty REAL DEFAULT 5,\n",
    "    fear REAL DEFAULT 5,\n",
    "\n",
    "    last_checked INTEGER,\n",
    "    chain TEXT,\n",
    "    FOREIGN KEY (space_id)\n",
    "    REFERENCES spaces (space_id)\n",
    "        ON DELETE SET NULL,\n",
    "    FOREIGN KEY (activity_id)\n",
    "    REFERENCES activities (activity_id)\n",
    "        ON DELETE SET NULL\n",
    "    )\n",
    "    \"\"\"\n",
    "    print(statement)"
   ]
  },
  {
   "cell_type": "code",
   "execution_count": 14,
   "metadata": {},
   "outputs": [
    {
     "data": {
      "text/plain": [
       "True"
      ]
     },
     "execution_count": 14,
     "metadata": {},
     "output_type": "execute_result"
    }
   ],
   "source": [
    "query.exec(statement)"
   ]
  },
  {
   "cell_type": "code",
   "execution_count": 18,
   "metadata": {},
   "outputs": [
    {
     "name": "stdout",
     "output_type": "stream",
     "text": [
      "SELECT space_id FROM spaces WHERE name='foobar';\n"
     ]
    }
   ],
   "source": [
    "statement = f\"\"\"SELECT space_id FROM spaces WHERE name='{d[\"space\"]}';\"\"\"\n",
    "print(statement)"
   ]
  },
  {
   "cell_type": "code",
   "execution_count": 19,
   "metadata": {},
   "outputs": [
    {
     "data": {
      "text/plain": [
       "True"
      ]
     },
     "execution_count": 19,
     "metadata": {},
     "output_type": "execute_result"
    }
   ],
   "source": [
    "query.exec(statement)"
   ]
  },
  {
   "cell_type": "code",
   "execution_count": 22,
   "metadata": {},
   "outputs": [
    {
     "name": "stdout",
     "output_type": "stream",
     "text": [
      "\n",
      "INSERT INTO tasks (do, space_id, done)\n",
      "VALUES ('do something!', \n",
      "(SELECT space_id from spaces WHERE name='foobar'),\n",
      "'0' \n",
      ")\n",
      "  \n"
     ]
    }
   ],
   "source": [
    "                        statement = f\"\"\"\n",
    "INSERT INTO tasks (do, space_id, done)\n",
    "VALUES ('{d[\"do\"]}', \n",
    "(SELECT space_id from spaces WHERE name='{d[\"space\"]}'),\n",
    "'{int(bool(d[\"done\"]))}' \n",
    ")\n",
    "  \"\"\"\n",
    "print(statement)"
   ]
  },
  {
   "cell_type": "code",
   "execution_count": 23,
   "metadata": {},
   "outputs": [
    {
     "data": {
      "text/plain": [
       "True"
      ]
     },
     "execution_count": 23,
     "metadata": {},
     "output_type": "execute_result"
    }
   ],
   "source": [
    "query.exec(statement)"
   ]
  },
  {
   "cell_type": "code",
   "execution_count": 24,
   "metadata": {},
   "outputs": [
    {
     "name": "stdout",
     "output_type": "stream",
     "text": [
      "\n",
      "CREATE TABLE IF NOT EXISTS levels(\n",
      "level_id INTEGER PRIMARY KEY UNIQUE NOT NULL,\n",
      "name VARCHAR(255) NOT NULL UNIQUE\n",
      ")\n",
      "\n"
     ]
    }
   ],
   "source": [
    "    statement = f\"\"\"\n",
    "    CREATE TABLE IF NOT EXISTS levels(\n",
    "    level_id INTEGER PRIMARY KEY UNIQUE NOT NULL,\n",
    "    name VARCHAR(255) NOT NULL UNIQUE\n",
    "    )\n",
    "    \"\"\"\n",
    "    print(statement)\n",
    "    "
   ]
  },
  {
   "cell_type": "code",
   "execution_count": 25,
   "metadata": {},
   "outputs": [
    {
     "data": {
      "text/plain": [
       "True"
      ]
     },
     "execution_count": 25,
     "metadata": {},
     "output_type": "execute_result"
    }
   ],
   "source": [
    "query.exec(statement)"
   ]
  },
  {
   "cell_type": "code",
   "execution_count": 39,
   "metadata": {},
   "outputs": [
    {
     "name": "stdout",
     "output_type": "stream",
     "text": [
      "\n",
      "    INSERT INTO levels (level_id, name)\n",
      "    VALUES (2, 'MUST')\n",
      "    )\n",
      "    \n"
     ]
    }
   ],
   "source": [
    "name = \"MUST\"\n",
    "level_id = 2\n",
    "statement = f\"\"\"\n",
    "    INSERT INTO levels (level_id, name)\n",
    "    VALUES ({level_id}, '{name}')\n",
    "    )\n",
    "    \"\"\"\n",
    "print(statement)"
   ]
  },
  {
   "cell_type": "code",
   "execution_count": 38,
   "metadata": {},
   "outputs": [
    {
     "data": {
      "text/plain": [
       "False"
      ]
     },
     "execution_count": 38,
     "metadata": {},
     "output_type": "execute_result"
    }
   ],
   "source": [
    "query.exec(statement)"
   ]
  }
 ],
 "metadata": {
  "kernelspec": {
   "display_name": "Python 3",
   "language": "python",
   "name": "python3"
  },
  "language_info": {
   "codemirror_mode": {
    "name": "ipython",
    "version": 3
   },
   "file_extension": ".py",
   "mimetype": "text/x-python",
   "name": "python",
   "nbconvert_exporter": "python",
   "pygments_lexer": "ipython3",
   "version": "3.8.3"
  }
 },
 "nbformat": 4,
 "nbformat_minor": 4
}
